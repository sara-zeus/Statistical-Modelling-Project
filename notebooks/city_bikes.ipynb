{
 "cells": [
  {
   "cell_type": "markdown",
   "id": "2fbc85cc",
   "metadata": {},
   "source": [
    "## CityBikes"
   ]
  },
  {
   "cell_type": "code",
   "execution_count": 3,
   "id": "c2b808a4",
   "metadata": {},
   "outputs": [],
   "source": [
    "import pandas as pd \n",
    "import requests "
   ]
  },
  {
   "cell_type": "code",
   "execution_count": 4,
   "id": "bbf7b600",
   "metadata": {},
   "outputs": [],
   "source": [
    "networks_url = 'http://api.citybik.es/v2/networks'\n",
    "response = requests.get(networks_url) "
   ]
  },
  {
   "cell_type": "code",
   "execution_count": 5,
   "id": "c357bb46",
   "metadata": {},
   "outputs": [],
   "source": [
    "if response.status_code == 200:  \n",
    "    networks_data = response.json()"
   ]
  },
  {
   "cell_type": "markdown",
   "id": "1491df92",
   "metadata": {},
   "source": [
    "## Choose Paris as the city covered by the CityBikes API and retrieve all available bike stations in that city.\n"
   ]
  },
  {
   "cell_type": "code",
   "execution_count": 13,
   "id": "42452379",
   "metadata": {},
   "outputs": [],
   "source": [
    "desired_city = 'Paris'"
   ]
  },
  {
   "cell_type": "code",
   "execution_count": 14,
   "id": "834e703f",
   "metadata": {},
   "outputs": [
    {
     "data": {
      "text/plain": [
       "'Moscow'"
      ]
     },
     "execution_count": 14,
     "metadata": {},
     "output_type": "execute_result"
    }
   ],
   "source": [
    "networks_data['networks'][0]['location']['city']\n"
   ]
  },
  {
   "cell_type": "code",
   "execution_count": 15,
   "id": "f9dc687b",
   "metadata": {},
   "outputs": [],
   "source": [
    "\n",
    "city_network = None \n",
    "for network in networks_data['networks']:\n",
    "    if network['location']['city'] == \"Paris\":\n",
    "            city_network = network\n",
    "            \n",
    "\n",
    "\n",
    "    "
   ]
  },
  {
   "cell_type": "code",
   "execution_count": 16,
   "id": "066e44c1",
   "metadata": {},
   "outputs": [
    {
     "data": {
      "text/plain": [
       "{'company': None,\n",
       " 'ebikes': True,\n",
       " 'gbfs_href': 'https://velib-metropole-opendata.smoove.pro/opendata/Velib_Metropole/gbfs.json',\n",
       " 'href': '/v2/networks/velib',\n",
       " 'id': 'velib',\n",
       " 'license': {'name': 'OPEN LICENCE 2.0',\n",
       "  'url': 'etalab.gouv.fr/wp-content/uploads/2018/11/open-licence.pdf'},\n",
       " 'location': {'city': 'Paris',\n",
       "  'country': 'FR',\n",
       "  'latitude': 48.856614,\n",
       "  'longitude': 2.3522219},\n",
       " 'name': \"Vélib' Métropole\"}"
      ]
     },
     "execution_count": 16,
     "metadata": {},
     "output_type": "execute_result"
    }
   ],
   "source": [
    "city_network"
   ]
  },
  {
   "cell_type": "code",
   "execution_count": 17,
   "id": "006c6407",
   "metadata": {},
   "outputs": [
    {
     "data": {
      "text/plain": [
       "(48.856614, 2.3522219)"
      ]
     },
     "execution_count": 17,
     "metadata": {},
     "output_type": "execute_result"
    }
   ],
   "source": [
    "lat = city_network['location']['latitude']\n",
    "log = city_network['location']['longitude']\n",
    "\n",
    "lat, log "
   ]
  },
  {
   "cell_type": "code",
   "execution_count": 18,
   "id": "34d16ff9",
   "metadata": {},
   "outputs": [],
   "source": [
    "if city_network:\n",
    "        network_id = city_network['id']\n",
    "        city_stations_url = f'http://api.citybik.es/v2/networks/{network_id}'\n",
    "        response_bike_id = requests.get(city_stations_url)"
   ]
  },
  {
   "cell_type": "code",
   "execution_count": 19,
   "id": "7dc44b80",
   "metadata": {},
   "outputs": [],
   "source": [
    "if response_bike_id.status_code == 200: \n",
    "            city_data = response_bike_id.json()"
   ]
  },
  {
   "cell_type": "markdown",
   "id": "7186a992",
   "metadata": {},
   "source": [
    "## For each bike station, use the API to call the latitude, longitude and number of bikes. \n"
   ]
  },
  {
   "cell_type": "code",
   "execution_count": 26,
   "id": "7732aa0c",
   "metadata": {},
   "outputs": [],
   "source": [
    "station_info = []\n",
    "\n",
    "stations = city_data['network']['stations'] \n",
    "for station in stations:\n",
    "    station_info.append({\n",
    "        'Latitude': station['latitude'],\n",
    "        'Longitude': station['longitude'],\n",
    "        'Available Bikes': station['extra']['ebikes'] if 'extra' in station and 'ebikes' in station['extra'] else None,\n",
    "        'Empty Slots': station['empty_slots'],\n",
    "        'Station ID': station['extra']['station_id'] if 'extra' in station and 'station_id' in station['extra'] else None,\n",
    "    })\n",
    "    \n",
    "\n",
    "    \n"
   ]
  },
  {
   "cell_type": "markdown",
   "id": "4532f8f3",
   "metadata": {},
   "source": [
    "## Parse the JSON object into a Pandas dataframe."
   ]
  },
  {
   "cell_type": "code",
   "execution_count": 29,
   "id": "93f2c56d",
   "metadata": {},
   "outputs": [],
   "source": [
    "station_data_frame = pd.DataFrame(station_info )"
   ]
  },
  {
   "cell_type": "code",
   "execution_count": 30,
   "id": "c06aa8d0",
   "metadata": {},
   "outputs": [
    {
     "data": {
      "text/html": [
       "<div>\n",
       "<style scoped>\n",
       "    .dataframe tbody tr th:only-of-type {\n",
       "        vertical-align: middle;\n",
       "    }\n",
       "\n",
       "    .dataframe tbody tr th {\n",
       "        vertical-align: top;\n",
       "    }\n",
       "\n",
       "    .dataframe thead th {\n",
       "        text-align: right;\n",
       "    }\n",
       "</style>\n",
       "<table border=\"1\" class=\"dataframe\">\n",
       "  <thead>\n",
       "    <tr style=\"text-align: right;\">\n",
       "      <th></th>\n",
       "      <th>Latitude</th>\n",
       "      <th>Longitude</th>\n",
       "      <th>Available Bikes</th>\n",
       "      <th>Empty Slots</th>\n",
       "      <th>Station ID</th>\n",
       "    </tr>\n",
       "  </thead>\n",
       "  <tbody>\n",
       "    <tr>\n",
       "      <th>0</th>\n",
       "      <td>48.865983</td>\n",
       "      <td>2.275725</td>\n",
       "      <td>1</td>\n",
       "      <td>29</td>\n",
       "      <td>213688169</td>\n",
       "    </tr>\n",
       "    <tr>\n",
       "      <th>1</th>\n",
       "      <td>48.853756</td>\n",
       "      <td>2.339096</td>\n",
       "      <td>0</td>\n",
       "      <td>52</td>\n",
       "      <td>99950133</td>\n",
       "    </tr>\n",
       "    <tr>\n",
       "      <th>2</th>\n",
       "      <td>48.867872</td>\n",
       "      <td>2.364898</td>\n",
       "      <td>4</td>\n",
       "      <td>12</td>\n",
       "      <td>312165511</td>\n",
       "    </tr>\n",
       "    <tr>\n",
       "      <th>3</th>\n",
       "      <td>48.856452</td>\n",
       "      <td>2.334852</td>\n",
       "      <td>2</td>\n",
       "      <td>13</td>\n",
       "      <td>210405211</td>\n",
       "    </tr>\n",
       "    <tr>\n",
       "      <th>4</th>\n",
       "      <td>48.879296</td>\n",
       "      <td>2.337360</td>\n",
       "      <td>1</td>\n",
       "      <td>20</td>\n",
       "      <td>36255</td>\n",
       "    </tr>\n",
       "  </tbody>\n",
       "</table>\n",
       "</div>"
      ],
      "text/plain": [
       "    Latitude  Longitude  Available Bikes  Empty Slots  Station ID\n",
       "0  48.865983   2.275725                1           29   213688169\n",
       "1  48.853756   2.339096                0           52    99950133\n",
       "2  48.867872   2.364898                4           12   312165511\n",
       "3  48.856452   2.334852                2           13   210405211\n",
       "4  48.879296   2.337360                1           20       36255"
      ]
     },
     "execution_count": 30,
     "metadata": {},
     "output_type": "execute_result"
    }
   ],
   "source": [
    "station_data_frame.head()"
   ]
  },
  {
   "cell_type": "code",
   "execution_count": 37,
   "id": "c8ebc578",
   "metadata": {},
   "outputs": [],
   "source": [
    "station_data_frame.to_csv('data.csv') \n"
   ]
  },
  {
   "cell_type": "code",
   "execution_count": 38,
   "id": "0e2752a5",
   "metadata": {},
   "outputs": [
    {
     "data": {
      "text/html": [
       "<div>\n",
       "<style scoped>\n",
       "    .dataframe tbody tr th:only-of-type {\n",
       "        vertical-align: middle;\n",
       "    }\n",
       "\n",
       "    .dataframe tbody tr th {\n",
       "        vertical-align: top;\n",
       "    }\n",
       "\n",
       "    .dataframe thead th {\n",
       "        text-align: right;\n",
       "    }\n",
       "</style>\n",
       "<table border=\"1\" class=\"dataframe\">\n",
       "  <thead>\n",
       "    <tr style=\"text-align: right;\">\n",
       "      <th></th>\n",
       "      <th>Unnamed: 0</th>\n",
       "      <th>Latitude</th>\n",
       "      <th>Longitude</th>\n",
       "      <th>Available Bikes</th>\n",
       "      <th>Empty Slots</th>\n",
       "      <th>Station ID</th>\n",
       "    </tr>\n",
       "  </thead>\n",
       "  <tbody>\n",
       "    <tr>\n",
       "      <th>0</th>\n",
       "      <td>0</td>\n",
       "      <td>48.865983</td>\n",
       "      <td>2.275725</td>\n",
       "      <td>1</td>\n",
       "      <td>29</td>\n",
       "      <td>213688169</td>\n",
       "    </tr>\n",
       "    <tr>\n",
       "      <th>1</th>\n",
       "      <td>1</td>\n",
       "      <td>48.853756</td>\n",
       "      <td>2.339096</td>\n",
       "      <td>0</td>\n",
       "      <td>52</td>\n",
       "      <td>99950133</td>\n",
       "    </tr>\n",
       "    <tr>\n",
       "      <th>2</th>\n",
       "      <td>2</td>\n",
       "      <td>48.867872</td>\n",
       "      <td>2.364898</td>\n",
       "      <td>4</td>\n",
       "      <td>12</td>\n",
       "      <td>312165511</td>\n",
       "    </tr>\n",
       "    <tr>\n",
       "      <th>3</th>\n",
       "      <td>3</td>\n",
       "      <td>48.856452</td>\n",
       "      <td>2.334852</td>\n",
       "      <td>2</td>\n",
       "      <td>13</td>\n",
       "      <td>210405211</td>\n",
       "    </tr>\n",
       "    <tr>\n",
       "      <th>4</th>\n",
       "      <td>4</td>\n",
       "      <td>48.879296</td>\n",
       "      <td>2.337360</td>\n",
       "      <td>1</td>\n",
       "      <td>20</td>\n",
       "      <td>36255</td>\n",
       "    </tr>\n",
       "    <tr>\n",
       "      <th>...</th>\n",
       "      <td>...</td>\n",
       "      <td>...</td>\n",
       "      <td>...</td>\n",
       "      <td>...</td>\n",
       "      <td>...</td>\n",
       "      <td>...</td>\n",
       "    </tr>\n",
       "    <tr>\n",
       "      <th>1455</th>\n",
       "      <td>1455</td>\n",
       "      <td>48.939959</td>\n",
       "      <td>2.327957</td>\n",
       "      <td>13</td>\n",
       "      <td>1</td>\n",
       "      <td>17527110170</td>\n",
       "    </tr>\n",
       "    <tr>\n",
       "      <th>1456</th>\n",
       "      <td>1456</td>\n",
       "      <td>48.936094</td>\n",
       "      <td>2.343617</td>\n",
       "      <td>11</td>\n",
       "      <td>1</td>\n",
       "      <td>18013122841</td>\n",
       "    </tr>\n",
       "    <tr>\n",
       "      <th>1457</th>\n",
       "      <td>1457</td>\n",
       "      <td>48.832024</td>\n",
       "      <td>2.490271</td>\n",
       "      <td>4</td>\n",
       "      <td>1</td>\n",
       "      <td>16043282800</td>\n",
       "    </tr>\n",
       "    <tr>\n",
       "      <th>1458</th>\n",
       "      <td>1458</td>\n",
       "      <td>48.880598</td>\n",
       "      <td>2.376949</td>\n",
       "      <td>0</td>\n",
       "      <td>27</td>\n",
       "      <td>54000594</td>\n",
       "    </tr>\n",
       "    <tr>\n",
       "      <th>1459</th>\n",
       "      <td>1459</td>\n",
       "      <td>48.836919</td>\n",
       "      <td>2.391678</td>\n",
       "      <td>2</td>\n",
       "      <td>5</td>\n",
       "      <td>18013132487</td>\n",
       "    </tr>\n",
       "  </tbody>\n",
       "</table>\n",
       "<p>1460 rows × 6 columns</p>\n",
       "</div>"
      ],
      "text/plain": [
       "      Unnamed: 0   Latitude  Longitude  Available Bikes  Empty Slots  \\\n",
       "0              0  48.865983   2.275725                1           29   \n",
       "1              1  48.853756   2.339096                0           52   \n",
       "2              2  48.867872   2.364898                4           12   \n",
       "3              3  48.856452   2.334852                2           13   \n",
       "4              4  48.879296   2.337360                1           20   \n",
       "...          ...        ...        ...              ...          ...   \n",
       "1455        1455  48.939959   2.327957               13            1   \n",
       "1456        1456  48.936094   2.343617               11            1   \n",
       "1457        1457  48.832024   2.490271                4            1   \n",
       "1458        1458  48.880598   2.376949                0           27   \n",
       "1459        1459  48.836919   2.391678                2            5   \n",
       "\n",
       "       Station ID  \n",
       "0       213688169  \n",
       "1        99950133  \n",
       "2       312165511  \n",
       "3       210405211  \n",
       "4           36255  \n",
       "...           ...  \n",
       "1455  17527110170  \n",
       "1456  18013122841  \n",
       "1457  16043282800  \n",
       "1458     54000594  \n",
       "1459  18013132487  \n",
       "\n",
       "[1460 rows x 6 columns]"
      ]
     },
     "execution_count": 38,
     "metadata": {},
     "output_type": "execute_result"
    }
   ],
   "source": [
    "pd.read_csv('data.csv')"
   ]
  }
 ],
 "metadata": {
  "kernelspec": {
   "display_name": "Python 3 (ipykernel)",
   "language": "python",
   "name": "python3"
  },
  "language_info": {
   "codemirror_mode": {
    "name": "ipython",
    "version": 3
   },
   "file_extension": ".py",
   "mimetype": "text/x-python",
   "name": "python",
   "nbconvert_exporter": "python",
   "pygments_lexer": "ipython3",
   "version": "3.10.9"
  }
 },
 "nbformat": 4,
 "nbformat_minor": 5
}
